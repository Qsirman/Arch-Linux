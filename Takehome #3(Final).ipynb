{
 "cells": [
  {
   "cell_type": "markdown",
   "metadata": {},
   "source": [
    "## 1. \n",
    "Consider  $$ I=\\int_0^\\infty \\frac{1}{\\sqrt{2\\pi}} e^{-x^2/2} \\; dx $$\n",
    "\n",
    "This is the *probability density function(pdf)* of \n",
    "the standard normal distribution.  As a *pdf*, its integral over the whole real line is 1.  \n",
    "Thus, by symmetry, the value of the above integral is $\\frac{1}{2}$.\n",
    "\n",
    "Consider approaches for evaluating $I$ numerically.  \n",
    "\n",
    "* Let M be some large number, and integrate\n",
    "$I$ numerically using adaptive quadrature (with Simpson's Rule) and 10 function evaluations.\n",
    "\n",
    "* Find a change of variable x=f(u) that maps\n",
    "$$\n",
    "I = \\int_a^b G(u) \\; du  \n",
    "$$\n",
    "and evaluate this integral *using an 5 point*\n",
    "gaussian quadrature rule.\n",
    "\n",
    "Which gives you the better result?\n",
    "\n"
   ]
  },
  {
   "cell_type": "markdown",
   "metadata": {},
   "source": [
    "## 2.  \n",
    "Let $GL_n(x)$ be the interpolating polynomial of the zeros of the\n",
    "degree $n-2$ Legendre polynomials(the Gaussian\n",
    "quadrature points) and the endpoints of the \n",
    "interval(so it is a polynomial of degree )\n",
    "\n",
    "* Prove that a quadrature formula with the appropriate weights integrates a polynomial of\n",
    "total degree $2n-3$ or less exactly.\n",
    "\n",
    "* Consider the 2 point Gauss Rule.  To design an adaptive algorithm, you need to get an\n",
    "estimate of the error by i) splitting the interval ii) using the next highest order gauss rule, iii) or using GL_2.  How many total function evaluations are needed to do \n",
    "adaptive quadrature with i), ii) and iii)?\n",
    "\n",
    "* Implement iii) and test it on \n",
    "$$\n",
    "\\int_{-1}^{1} 1+\\sin(e^{4x}) \\; dx\n",
    "$$\n",
    "\n"
   ]
  },
  {
   "cell_type": "markdown",
   "metadata": {},
   "source": [
    "## 3.\n",
    "You are given $y(t=0)=y_0$, and $y(t=h)=y_1$ as\n",
    "solutions to a differential equation \n",
    "$$\n",
    "y^\\prime(t)=f(t,y)\n",
    "$$\n",
    "\n",
    "1. Fit a polynomial of degree 3 through your known values to construct $\\hat{y}(t)$, an approximation to $y(t)$.  \n",
    "2.  Use this to construct an approximation $y_2(t=2h)$ in terms of $y_i$ and $f_i$.\n",
    "3.  Determine the converge rate(in terms of $h$) either analytically or numerically.   "
   ]
  },
  {
   "cell_type": "markdown",
   "metadata": {},
   "source": [
    "## 4 .\n",
    "### See Nonlinear Least Squares Notebook for help.\n",
    "\n",
    "Given 4 circles:\n",
    "$$\n",
    "x^2+y^2=1, \\quad (x-8)^2+y^2=4, \\quad (x-4)^2+(y+3)^2=9, \\quad \\text{and }(x-3)^2 + (y-4)^2=4\n",
    "$$\n",
    "\n",
    "* Use Nonlinear Least squares to find the point $(x_c,y_c)$ that minimizes\n",
    "the total distance from the point to the 3 circles.\n",
    "\n",
    "* Given the \"true\" minimum, plot the convergence rate of NLS to the true\n",
    "minimum when you use the Hessian term $(D2F,F)$ and when you drop it\n",
    "(like they do in the text).  Pick a decent starting guess.\n",
    "\n",
    "Remember the convergence rate $\\alpha$ of an iterative scheme is usually measured by $$ e_{n+1} \\sim e_{n}^\\alpha. Estimate $\\alpha$ for both\n",
    "methods by fitting the appropriate log-linear model.\n"
   ]
  },
  {
   "cell_type": "code",
   "execution_count": null,
   "metadata": {
    "collapsed": true
   },
   "outputs": [],
   "source": []
  }
 ],
 "metadata": {
  "kernelspec": {
   "display_name": "Python [conda root]",
   "language": "python",
   "name": "conda-root-py"
  },
  "language_info": {
   "codemirror_mode": {
    "name": "ipython",
    "version": 3
   },
   "file_extension": ".py",
   "mimetype": "text/x-python",
   "name": "python",
   "nbconvert_exporter": "python",
   "pygments_lexer": "ipython3",
   "version": "3.6.1"
  }
 },
 "nbformat": 4,
 "nbformat_minor": 2
}
